{
  "nbformat": 4,
  "nbformat_minor": 0,
  "metadata": {
    "colab": {
      "provenance": [],
      "include_colab_link": true
    },
    "kernelspec": {
      "name": "python3",
      "display_name": "Python 3"
    },
    "language_info": {
      "name": "python"
    }
  },
  "cells": [
    {
      "cell_type": "markdown",
      "metadata": {
        "id": "view-in-github",
        "colab_type": "text"
      },
      "source": [
        "<a href=\"https://colab.research.google.com/gist/Alekseiy1980/7efae8387218713f5427649f8ac9597e/.ipynb\" target=\"_parent\"><img src=\"https://colab.research.google.com/assets/colab-badge.svg\" alt=\"Open In Colab\"/></a>"
      ]
    },
    {
      "cell_type": "code",
      "source": [
        "import pandas as pd\n",
        "import random\n"
      ],
      "metadata": {
        "id": "mO0THuYEWIIU"
      },
      "execution_count": 1,
      "outputs": []
    },
    {
      "cell_type": "code",
      "source": [
        "lst = ['robot'] * 10\n",
        "lst += ['human'] * 10"
      ],
      "metadata": {
        "id": "v5ALESXEpNay"
      },
      "execution_count": 2,
      "outputs": []
    },
    {
      "cell_type": "code",
      "source": [
        "random.shuffle(lst)"
      ],
      "metadata": {
        "id": "89omm0vupjWB"
      },
      "execution_count": 3,
      "outputs": []
    },
    {
      "cell_type": "code",
      "source": [
        "lst_robo = []\n",
        "lst_human = []"
      ],
      "metadata": {
        "id": "EPjUSbY9py7a"
      },
      "execution_count": 4,
      "outputs": []
    },
    {
      "cell_type": "code",
      "source": [
        "for item in lst:\n",
        "    if item == 'robot':\n",
        "        lst_robo.append('1')\n",
        "        lst_human.append('0')\n",
        "    else:\n",
        "        lst_robo.append('0')\n",
        "        lst_human.append('1')"
      ],
      "metadata": {
        "id": "zBXy0PtFp5VB"
      },
      "execution_count": 5,
      "outputs": []
    },
    {
      "cell_type": "code",
      "source": [
        "data = pd.DataFrame({'WhoAmI': lst,'robot': lst_robo, 'human': lst_human})\n",
        "\n",
        "print(data.head())"
      ],
      "metadata": {
        "colab": {
          "base_uri": "https://localhost:8080/"
        },
        "id": "cmGbi6ALqFa5",
        "outputId": "e03324f8-c31e-4312-9c50-85601280c56b"
      },
      "execution_count": 6,
      "outputs": [
        {
          "output_type": "stream",
          "name": "stdout",
          "text": [
            "  WhoAmI robot human\n",
            "0  robot     1     0\n",
            "1  robot     1     0\n",
            "2  human     0     1\n",
            "3  robot     1     0\n",
            "4  human     0     1\n"
          ]
        }
      ]
    }
  ]
}
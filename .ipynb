{
  "nbformat": 4,
  "nbformat_minor": 0,
  "metadata": {
    "colab": {
      "provenance": []
    },
    "kernelspec": {
      "name": "python3",
      "display_name": "Python 3"
    },
    "language_info": {
      "name": "python"
    }
  },
  "cells": [
    {
      "cell_type": "code",
      "source": [
        "import pandas as pd\n",
        "import random\n"
      ],
      "metadata": {
        "id": "mO0THuYEWIIU"
      },
      "execution_count": 40,
      "outputs": []
    },
    {
      "cell_type": "code",
      "source": [
        "lst = ['robot'] * 10\n",
        "lst += ['human'] * 10"
      ],
      "metadata": {
        "id": "v5ALESXEpNay"
      },
      "execution_count": 41,
      "outputs": []
    },
    {
      "cell_type": "code",
      "source": [
        "random.shuffle(lst)"
      ],
      "metadata": {
        "id": "89omm0vupjWB"
      },
      "execution_count": 42,
      "outputs": []
    },
    {
      "cell_type": "code",
      "source": [
        "lst_robo = []\n",
        "lst_human = []"
      ],
      "metadata": {
        "id": "EPjUSbY9py7a"
      },
      "execution_count": 43,
      "outputs": []
    },
    {
      "cell_type": "code",
      "source": [
        "for item in lst:\n",
        "    if item == 'robot':\n",
        "        lst_robo.append('1')\n",
        "        lst_human.append('0')\n",
        "    else:\n",
        "        lst_robo.append('0')\n",
        "        lst_human.append('1')"
      ],
      "metadata": {
        "id": "zBXy0PtFp5VB"
      },
      "execution_count": 44,
      "outputs": []
    },
    {
      "cell_type": "code",
      "source": [
        "data = pd.DataFrame({'WhoAmI': lst,'robot': lst_robo, 'human': lst_human})\n",
        "\n",
        "print(data.head())"
      ],
      "metadata": {
        "id": "cmGbi6ALqFa5",
        "outputId": "6073d40a-01d3-4a17-e284-7f70ab513594",
        "colab": {
          "base_uri": "https://localhost:8080/"
        }
      },
      "execution_count": 45,
      "outputs": [
        {
          "output_type": "stream",
          "name": "stdout",
          "text": [
            "  WhoAmI robot human\n",
            "0  robot     1     0\n",
            "1  robot     1     0\n",
            "2  human     0     1\n",
            "3  robot     1     0\n",
            "4  human     0     1\n"
          ]
        }
      ]
    }
  ]
}